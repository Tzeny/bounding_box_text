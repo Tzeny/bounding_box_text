{
 "cells": [
  {
   "cell_type": "markdown",
   "metadata": {},
   "source": [
    "# Setup"
   ]
  },
  {
   "cell_type": "code",
   "execution_count": 23,
   "metadata": {
    "ExecuteTime": {
     "end_time": "2023-01-03T16:12:06.034310Z",
     "start_time": "2023-01-03T16:12:06.028128Z"
    }
   },
   "outputs": [],
   "source": [
    "from PIL import Image, ImageFile, ImageDraw, ImageFont\n",
    "import json\n",
    "import time \n",
    "import timeit\n",
    "import numpy as np\n",
    "\n",
    "# what colors to use to display bounding boxes\n",
    "# clases that are not in this dictionary will not be displayed\n",
    "color_dict = {\n",
    "    \"Lung Opacity\": '#ff6769',\n",
    "    \"Atelectasis\": '#a87e56',\n",
    "    \"Consolidation\": '#6bdd7b',\n",
    "    \"Fracture\": '#82bde9',\n",
    "    \"Lung Lesion\": '#eb69a5',\n",
    "    \"Pleural Effusion\": '#8353a5',\n",
    "    \"Pleural Other\": '#ffaa4d',\n",
    "    \"Tuberculosis\": '#f4f156',\n",
    "    \"Pneumothorax\": '#0392ce'\n",
    "}\n",
    "\n",
    "# the labels to be displayed next to each of the classes' bounding boxes\n",
    "label_dict = {\n",
    "    \"BBOX_Atelectasis\": \"AT\",\n",
    "    \"BBOX_Consolidation\": \"CO\",\n",
    "    \"BBOX_Fracture\": \"FR\",\n",
    "    \"BBOX_Lung Lesion\": \"LL\",\n",
    "    \"BBOX_Lung Opacity\": \"LO\",\n",
    "    \"BBOX_Pleural Effusion\": \"PE\",\n",
    "    \"BBOX_Pleural Other\": \"PO\",\n",
    "    \"BBOX_Pneumothorax\": \"PX\",\n",
    "    \"BBOX_Tuberculosis\": \"TBC\",\n",
    "}\n",
    "\n",
    "bboxes_width = 2 # width of bounding box sides\n",
    "text_scale = 60 # size of the bounding box labels\n",
    "benchmark_runs = 50 # how many times to run the drawing benchmark"
   ]
  },
  {
   "cell_type": "markdown",
   "metadata": {},
   "source": [
    "# Benchmark"
   ]
  },
  {
   "cell_type": "code",
   "execution_count": 25,
   "metadata": {
    "ExecuteTime": {
     "end_time": "2023-01-03T16:12:45.919335Z",
     "start_time": "2023-01-03T16:12:45.092040Z"
    },
    "scrolled": false
   },
   "outputs": [
    {
     "name": "stdout",
     "output_type": "stream",
     "text": [
      "Loaded image img.jpeg, shape: (2332, 2733)\n",
      "Loaded 68 BBoxes from bounding_boxes.json\n",
      "First BBox class {'rectangles': [{'start': {'x': 1423.05225682259, 'y': 515.121554240584}, 'end': {'x': 1640.44490027428, 'y': 777.13093328476}}, {'start': {'x': 345.256063997746, 'y': 1078.28225076199}, 'end': {'x': 530.636279284954, 'y': 1248.74622729421}}, {'start': {'x': 520.591134786606, 'y': 554.086380198598}, 'end': {'x': 823.559723377228, 'y': 942.614909380674}}, {'start': {'x': 259.312173694372, 'y': 1207.61768880486}, 'end': {'x': 645.551268696785, 'y': 1791.77389025688}}, {'start': {'x': 587.193640112877, 'y': 969.645474046469}, 'end': {'x': 771.556459307671, 'y': 1188.39766618609}}, {'start': {'x': 1498.64119338989, 'y': 722.585422307253}, 'end': {'x': 1983.54347157478, 'y': 1439.55390715599}}, {'start': {'x': 347.860087871552, 'y': 874.160876691341}, 'end': {'x': 541.699132621288, 'y': 1144.51417145133}}, {'start': {'x': 1940.87566280365, 'y': 1701.15811443329}, 'end': {'x': 2138.24911475182, 'y': 1916.43386846781}}, {'start': {'x': 590.505407214165, 'y': 787.441330969334}, 'end': {'x': 771.134252786636, 'y': 991.416828542948}}, {'start': {'x': 1716.37896895409, 'y': 1283.00057002902}, 'end': {'x': 1947.31613659859, 'y': 1562.57169556618}}], 'percentage': 0.626072739561399, 'description': 'High', 'type': 'Lung Opacity'}\n",
      "Benchmark 0 run time 0.00834s\n",
      "Benchmark 1 run time 0.00751s\n",
      "Benchmark 2 run time 0.00728s\n",
      "Benchmark 3 run time 0.00756s\n",
      "Benchmark 4 run time 0.00742s\n",
      "Benchmark 5 run time 0.00754s\n",
      "Benchmark 6 run time 0.00751s\n",
      "Benchmark 7 run time 0.00777s\n",
      "Benchmark 8 run time 0.00736s\n",
      "Benchmark 9 run time 0.00776s\n",
      "Benchmark 10 run time 0.00707s\n",
      "Benchmark 11 run time 0.00709s\n",
      "Benchmark 12 run time 0.00825s\n",
      "Benchmark 13 run time 0.00742s\n",
      "Benchmark 14 run time 0.00867s\n",
      "Benchmark 15 run time 0.00929s\n",
      "Benchmark 16 run time 0.01246s\n",
      "Benchmark 17 run time 0.00835s\n",
      "Benchmark 18 run time 0.00859s\n",
      "Benchmark 19 run time 0.00725s\n",
      "Benchmark 20 run time 0.00782s\n",
      "Benchmark 21 run time 0.00845s\n",
      "Benchmark 22 run time 0.00749s\n",
      "Benchmark 23 run time 0.00748s\n",
      "Benchmark 24 run time 0.00814s\n",
      "Benchmark 25 run time 0.00763s\n",
      "Benchmark 26 run time 0.00757s\n",
      "Benchmark 27 run time 0.00850s\n",
      "Benchmark 28 run time 0.00719s\n",
      "Benchmark 29 run time 0.00784s\n",
      "Benchmark 30 run time 0.00760s\n",
      "Benchmark 31 run time 0.00713s\n",
      "Benchmark 32 run time 0.00728s\n",
      "Benchmark 33 run time 0.00750s\n",
      "Benchmark 34 run time 0.00732s\n",
      "Benchmark 35 run time 0.00753s\n",
      "Benchmark 36 run time 0.00995s\n",
      "Benchmark 37 run time 0.01163s\n",
      "Benchmark 38 run time 0.01192s\n",
      "Benchmark 39 run time 0.00793s\n",
      "Benchmark 40 run time 0.00745s\n",
      "Benchmark 41 run time 0.00768s\n",
      "Benchmark 42 run time 0.00806s\n",
      "Benchmark 43 run time 0.00756s\n",
      "Benchmark 44 run time 0.00745s\n",
      "Benchmark 45 run time 0.00774s\n",
      "Benchmark 46 run time 0.00843s\n",
      "Benchmark 47 run time 0.00805s\n",
      "Benchmark 48 run time 0.00774s\n",
      "Benchmark 49 run time 0.00733s\n",
      "Benchmark done, 50 runs, mean time 0.00804 (+/- 0.00115)s\n",
      "Saved image to out.jpg\n"
     ]
    }
   ],
   "source": [
    "test_img_path = 'img.jpeg'\n",
    "test_bbox_path = 'bounding_boxes.json'\n",
    "\n",
    "img = Image.open(test_img_path).convert('RGB')\n",
    "print(f'Loaded image {test_img_path}, shape: {img.size}')\n",
    "\n",
    "# we scale the text according to the image dimensions and the scale\n",
    "# the fnt object is used to draw text\n",
    "text_size = img.height // text_scale * img.width // img.height\n",
    "fnt = ImageFont.truetype(\"arial.ttf\", int(text_size))\n",
    "\n",
    "with open(test_bbox_path, 'r') as file:\n",
    "    bbox_list = json.load(file)\n",
    "print(f'Loaded {sum([len(l) for l in bbox_list])} BBoxes from {test_bbox_path}')\n",
    "print(f'First BBox class {bbox_list[0]}')\n",
    "\n",
    "benchmark_times = []\n",
    "for benchmark_idx in range(benchmark_runs):\n",
    "    # this is used to draw on the image\n",
    "    # draw.rectangle and draw.text draw rectangles and text directly on the pixels of an image\n",
    "    img_copy = img.copy()\n",
    "    draw = ImageDraw.Draw(img_copy)\n",
    "\n",
    "    a = timeit.default_timer()\n",
    "\n",
    "    # go through each bbox_dict, each entry contains the class name and a list of rectangles representing the bounding boxes\n",
    "    for bbox_dict in bbox_list:\n",
    "        bbox_class = bbox_dict['type']\n",
    "\n",
    "        # skip bounding boxes that are not meant to be displayed or that have no rectangles\n",
    "        if bbox_class not in color_dict or len(bbox_dict['rectangles']) == 0:\n",
    "            continue\n",
    "\n",
    "        label_size = fnt.getsize(label_dict['BBOX_' + bbox_class])\n",
    "        # label_size = (width, height) of the label text\n",
    "\n",
    "        # go through each rectangle of the class\n",
    "        for bbox in bbox_dict['rectangles']:\n",
    "            draw.rectangle((bbox['start']['x'], bbox['start']['y'], bbox['end']['x'], bbox['end']['y']), outline=color_dict[bbox_class], width=bboxes_width)\n",
    "\n",
    "            # MODIFY THIS\n",
    "            # these are the coordinates at which we draw the label\n",
    "            label_spot = bbox['start']['x'], bbox['start']['y'] - label_size[1] * 1.2\n",
    "            draw.text(label_spot, label_dict['BBOX_' + bbox_class], font=fnt, fill=color_dict[bbox_class])\n",
    "\n",
    "    b = timeit.default_timer()\n",
    "    benchmark_time = b - a\n",
    "    benchmark_times.append(benchmark_time)\n",
    "    print(f'Benchmark {benchmark_idx} run time {b - a:.5f}s')\n",
    "        \n",
    "b_mean, b_std = np.mean(benchmark_times), np.std(benchmark_times)\n",
    "print(f'Benchmark done, {benchmark_runs} runs, mean time {b_mean:.5f} (+/- {b_std:.5f})s')\n",
    "        \n",
    "img_copy.save('./out.jpg')\n",
    "print('Saved image to out.jpg')"
   ]
  },
  {
   "cell_type": "code",
   "execution_count": null,
   "metadata": {},
   "outputs": [],
   "source": []
  }
 ],
 "metadata": {
  "kernelspec": {
   "display_name": "Python 3",
   "language": "python",
   "name": "python3"
  },
  "language_info": {
   "codemirror_mode": {
    "name": "ipython",
    "version": 3
   },
   "file_extension": ".py",
   "mimetype": "text/x-python",
   "name": "python",
   "nbconvert_exporter": "python",
   "pygments_lexer": "ipython3",
   "version": "3.7.7"
  },
  "toc": {
   "base_numbering": 1,
   "nav_menu": {},
   "number_sections": true,
   "sideBar": true,
   "skip_h1_title": false,
   "title_cell": "Table of Contents",
   "title_sidebar": "Contents",
   "toc_cell": false,
   "toc_position": {},
   "toc_section_display": true,
   "toc_window_display": false
  }
 },
 "nbformat": 4,
 "nbformat_minor": 2
}
